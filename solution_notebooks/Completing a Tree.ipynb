{
 "cells": [
  {
   "cell_type": "code",
   "execution_count": 69,
   "metadata": {},
   "outputs": [],
   "source": [
    "# Tree is essentially a matrix where the existing edges are 1\n",
    "# So given an adjacency matrix, we want to make the graph matrix\n",
    "# On the upper triangular of this matrix, we want the rows and columns to not be zero, else there are discontinuities\n",
    "# The sum of rows in the upper (or lower) traingular matrix that components sum to zero is the number we are trying to solve for\n",
    "\n",
    "#e.g.\n",
    "adj_str = \"\"\"10\n",
    "1 2\n",
    "2 8\n",
    "4 10\n",
    "5 9\n",
    "6 10\n",
    "7 9\n",
    "\"\"\""
   ]
  },
  {
   "cell_type": "code",
   "execution_count": 70,
   "metadata": {},
   "outputs": [],
   "source": [
    "import numpy as np"
   ]
  },
  {
   "cell_type": "code",
   "execution_count": 71,
   "metadata": {},
   "outputs": [],
   "source": [
    "def str2adjmat(string:str):\n",
    "    adj_list = adj_str.splitlines()\n",
    "    #Get the number of nodes in the first line\n",
    "    n_nodes = int(adj_list[0])\n",
    "    adj_matrix = []\n",
    "    for i in adj_list[1:]:\n",
    "        int_list = [int(j) for j in i.split(\" \")]\n",
    "        adj_matrix.append(int_list)\n",
    "    return n_nodes, adj_matrix\n",
    "\n",
    "def n_missing_edges(n_nodes:int, adj_matrix:list):\n",
    "    graph_mat = np.zeros([n_nodes, n_nodes])\n",
    "    for i in adj_matrix:\n",
    "        x = int(min(i))-1\n",
    "        y = int(max(i)) - 1\n",
    "        graph_mat[x,y] = 1\n",
    "    colsums = np.triu(graph_mat).sum(axis = 1)\n",
    "    n_miss_edges = n_nodes-colsums.sum()-1\n",
    "    return n_miss_edges"
   ]
  },
  {
   "cell_type": "code",
   "execution_count": 72,
   "metadata": {},
   "outputs": [],
   "source": [
    "n_nodes, adj_matrix = str2adjmat(adj_str)"
   ]
  },
  {
   "cell_type": "code",
   "execution_count": 73,
   "metadata": {},
   "outputs": [
    {
     "data": {
      "text/plain": [
       "3.0"
      ]
     },
     "execution_count": 73,
     "metadata": {},
     "output_type": "execute_result"
    }
   ],
   "source": [
    "n_missing_edges(n_nodes, adj_matrix)"
   ]
  },
  {
   "cell_type": "code",
   "execution_count": 74,
   "metadata": {},
   "outputs": [],
   "source": [
    "# This was overthinking on my part, looking at the solutions, I could just count the nodes as all trees must have n-1 nodes"
   ]
  },
  {
   "cell_type": "code",
   "execution_count": 75,
   "metadata": {},
   "outputs": [],
   "source": [
    "def missing_edges(string:str):\n",
    "    adj_list = adj_str.splitlines()\n",
    "    n = int(adj_list[0])\n",
    "    m = len(adj_list[1:])\n",
    "    return n-m-1"
   ]
  },
  {
   "cell_type": "code",
   "execution_count": 76,
   "metadata": {},
   "outputs": [
    {
     "data": {
      "text/plain": [
       "3"
      ]
     },
     "execution_count": 76,
     "metadata": {},
     "output_type": "execute_result"
    }
   ],
   "source": [
    "missing_edges(adj_str)"
   ]
  },
  {
   "cell_type": "code",
   "execution_count": null,
   "metadata": {},
   "outputs": [],
   "source": []
  }
 ],
 "metadata": {
  "kernelspec": {
   "display_name": "Python 3",
   "language": "python",
   "name": "python3"
  },
  "language_info": {
   "codemirror_mode": {
    "name": "ipython",
    "version": 3
   },
   "file_extension": ".py",
   "mimetype": "text/x-python",
   "name": "python",
   "nbconvert_exporter": "python",
   "pygments_lexer": "ipython3",
   "version": "3.8.5"
  }
 },
 "nbformat": 4,
 "nbformat_minor": 4
}
